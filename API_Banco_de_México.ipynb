{
  "nbformat": 4,
  "nbformat_minor": 0,
  "metadata": {
    "colab": {
      "name": "API Banco de México.ipynb",
      "private_outputs": true,
      "provenance": [],
      "collapsed_sections": [],
      "authorship_tag": "ABX9TyP2OojT+tHWVO8ETajaXmcf",
      "include_colab_link": true
    },
    "kernelspec": {
      "name": "python3",
      "display_name": "Python 3"
    },
    "language_info": {
      "name": "python"
    }
  },
  "cells": [
    {
      "cell_type": "markdown",
      "metadata": {
        "id": "view-in-github",
        "colab_type": "text"
      },
      "source": [
        "<a href=\"https://colab.research.google.com/github/bruno-orozco/mk/blob/master/API_Banco_de_M%C3%A9xico.ipynb\" target=\"_parent\"><img src=\"https://colab.research.google.com/assets/colab-badge.svg\" alt=\"Open In Colab\"/></a>"
      ]
    },
    {
      "cell_type": "code",
      "execution_count": null,
      "metadata": {
        "id": "pShwjimAJrGe"
      },
      "outputs": [],
      "source": [
        "import requests\n",
        "import pandas as pd\n",
        "import datetime\n",
        "import plotly.graph_objects as go\n",
        "\n",
        "#Variables iniciales\n",
        "hoy = datetime.datetime.today().strftime('%Y-%m-%d')\n",
        "token = '4d8d8d3dc2480b3bb624bae16cc566174ddca5d39fe1cf3887be73103ae61d9c'\n",
        "serie = \"SR16643\"\n",
        "fechainicio = \"1900-01-01\"\n",
        "fechafin = hoy\n",
        "\n",
        "def bmx_datos(serie, fechainicio, fechafin, token):\n",
        "    \"\"\"\n",
        "    Parameters\n",
        "    ----------\n",
        "    serie : string\n",
        "        Sustituye la serie por la de tu interés.\n",
        "        Obtén el catálogo de series en: https://www.banxico.org.mx/SieAPIRest/service/v1/doc/catalogoSeries#\n",
        "    fechainicio : string\n",
        "        Obtener la fecha inicial en formato '%Y-%m-%d'\n",
        "    fechafin : \n",
        "        Obtener la fecha final en formato '%Y-%m-%d'\n",
        "    token : string\n",
        "        Obtener token de autenticación.\n",
        "\n",
        "    Returns\n",
        "    -------\n",
        "    datframe\n",
        "        Retorna un dataframe de los datos obtenidos.\n",
        "    \"\"\"\n",
        "    #Llamado al API\n",
        "    url = \"https://www.banxico.org.mx/SieAPIRest/service/v1/series/{}/datos/{}/{}\".format(serie, fechainicio, fechafin)\n",
        "    \n",
        "    headers = {'Bmx-Token' : token}\n",
        "    response = requests.get(url, headers=headers)\n",
        "\n",
        "    status = response.status_code\n",
        "    \n",
        "    if status != 200:\n",
        "        return print(\"Error {}\".format(status))\n",
        "        \n",
        "    raw_data = response.json()\n",
        "    \n",
        "    data = raw_data['bmx']['series'][0]['datos']\n",
        "    \n",
        "    df = pd.DataFrame(data)\n",
        "\n",
        "    df[\"fecha\"] = pd.to_datetime(df['fecha'],\n",
        "                                 format=\"%d/%m/%Y\")\n",
        "    \n",
        "    df[\"dato\"] = df[\"dato\"].replace({',':''}, regex=True)\n",
        "    \n",
        "    df[\"dato\"] = df[\"dato\"].astype(float) \n",
        "    \n",
        "    return df"
      ]
    },
    {
      "cell_type": "code",
      "source": [
        "def pib_precios_correintes(df):\n",
        "    \"\"\"\n",
        "    Función ejemplo para obtener gráfica con el DF obtenido\n",
        "    \"\"\"\n",
        "\n",
        "\n",
        "\n",
        "    fig = go.Figure([go.Scatter(x=df['fecha'], y=df['dato'],\n",
        "                                mode='lines+markers',\n",
        "                                fill=\"tonexty\",\n",
        "                                )])\n",
        "    fig.update_layout(title=\"Producto Interno Brunto, a precios de mercado (México)\",\n",
        "                   xaxis_title='Fecha',\n",
        "                   yaxis_title='Millones de pesos (precios correintes)')\n",
        "\n",
        "    fig.show()"
      ],
      "metadata": {
        "id": "Bd_zia1-b036"
      },
      "execution_count": null,
      "outputs": []
    },
    {
      "cell_type": "code",
      "source": [
        "df = bmx_datos(serie, fechainicio, fechafin, token)\n",
        "pib_precios_correintes(df)"
      ],
      "metadata": {
        "id": "SXofUmmRcSUV"
      },
      "execution_count": null,
      "outputs": []
    }
  ]
}